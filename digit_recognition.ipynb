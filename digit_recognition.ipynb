{
 "cells": [
  {
   "cell_type": "code",
   "execution_count": 28,
   "metadata": {},
   "outputs": [],
   "source": [
    "from sklearn.datasets import load_digits\n",
    "import pandas as pd\n",
    "import numpy as np\n",
    "import matplotlib.pyplot as plt\n",
    "from sklearn.model_selection import train_test_split"
   ]
  },
  {
   "cell_type": "code",
   "execution_count": 10,
   "metadata": {},
   "outputs": [],
   "source": [
    "digits = load_digits()\n",
    "X = digits['data']\n",
    "y = digits['target']"
   ]
  },
  {
   "cell_type": "code",
   "execution_count": 32,
   "metadata": {},
   "outputs": [],
   "source": [
    "X_train, X_test, y_train, y_test = train_test_split(X, y, test_size=0.25)"
   ]
  },
  {
   "cell_type": "code",
   "execution_count": 11,
   "metadata": {},
   "outputs": [],
   "source": [
    "def get_random_weight(incoming_conn, outgoing_conn):\n",
    "    epsilon_init = 0.12\n",
    "    weight = np.random.rand(outgoing_conn, incoming_conn + 1) * 2 * epsilon_init - epsilon_init\n",
    "    return weight"
   ]
  },
  {
   "cell_type": "code",
   "execution_count": 12,
   "metadata": {},
   "outputs": [],
   "source": [
    "def sigmoid(z):\n",
    "    return 1 / (1 + np.exp(-z))"
   ]
  },
  {
   "cell_type": "code",
   "execution_count": 13,
   "metadata": {},
   "outputs": [],
   "source": [
    "def sigmoid_gradient(z):\n",
    "    sigmoid_ = sigmoid(z)\n",
    "    gradient = sigmoid_ * (1 - sigmoid_)\n",
    "    return gradient"
   ]
  },
  {
   "cell_type": "code",
   "execution_count": 14,
   "metadata": {},
   "outputs": [],
   "source": [
    "def get_predictions(X, theta1, theta2):\n",
    "    m = X.shape[0]\n",
    "    A1 = np.hstack((np.ones((m, 1)), X))\n",
    "    Z2 = A1 @ theta1.T\n",
    "    A2 = np.c_[np.ones((Z2.shape[0], 1)), sigmoid(Z2)]\n",
    "    Z3 = A2 @ theta2.T\n",
    "    A3 = H = sigmoid(Z3)\n",
    "    return H"
   ]
  },
  {
   "cell_type": "code",
   "execution_count": 15,
   "metadata": {},
   "outputs": [],
   "source": [
    "def vectorize_targets(y):\n",
    "    m = y.shape[0]\n",
    "    I = np.eye(10)\n",
    "    Y = np.zeros((m, 10))\n",
    "    \n",
    "    for i in range(m):\n",
    "        Y[i, :] = I[y[i], :]\n",
    "        \n",
    "    return Y"
   ]
  },
  {
   "cell_type": "code",
   "execution_count": 19,
   "metadata": {},
   "outputs": [],
   "source": [
    "def cost_function(X, Y, theta1, theta2, num_labels, lambda_):\n",
    "    m = X.shape[0]\n",
    "    H = get_predictions(X, theta1, theta2)\n",
    "    penalty = (lambda_ / (2 * m)) * (np.sum(theta1[:, 1:]**2) + np.sum(theta2[:, 1:]**2))\n",
    "    cost = np.sum( (-Y * np.log(H)) - ((1 - Y) * np.log(1 - H)) ) / m\n",
    "    cost += penalty\n",
    "    return cost"
   ]
  },
  {
   "cell_type": "code",
   "execution_count": 17,
   "metadata": {},
   "outputs": [],
   "source": [
    "def get_gradients(X, Y, theta1, theta2, lambda_):\n",
    "    m = X.shape[0]\n",
    "    A1 = np.hstack((np.ones((m, 1)), X))\n",
    "    Z2 = A1 @ theta1.T\n",
    "    A2 = np.c_[np.ones((Z2.shape[0], 1)), sigmoid(Z2)]\n",
    "    Z3 = A2 @ theta2.T\n",
    "    A3 = H = sigmoid(Z3)\n",
    "\n",
    "    sigma3 = H - Y\n",
    "    sigma2 = (sigma3 @ theta2) * sigmoid_gradient(np.c_[np.ones(Z2.shape[0]), Z2])\n",
    "    sigma2 = sigma2[:, 1:]\n",
    "\n",
    "    delta1 = sigma2.transpose() @ A1\n",
    "    delta2 = sigma3.transpose() @ A2\n",
    "\n",
    "    theta1_grad = (delta1 / m) + (lambda_ / m) *  np.c_[np.zeros(theta1.shape[0]), theta1[:, 1:]]\n",
    "    theta2_grad = (delta2 / m) + (lambda_ / m) *  np.c_[np.zeros(theta2.shape[0]), theta2[:, 1:]]\n",
    "    return theta1_grad, theta2_grad"
   ]
  },
  {
   "cell_type": "code",
   "execution_count": 33,
   "metadata": {},
   "outputs": [],
   "source": [
    "theta1 = get_random_weight(X.shape[1], 120)\n",
    "theta2 = get_random_weight(120, 10)\n",
    "Y = vectorize_targets(y_train)\n",
    "alpha = 0.03\n",
    "cost_history = []\n",
    "\n",
    "for i in range(500):\n",
    "    cost = cost_function(X_train, Y, theta1, theta2, 10, 1)\n",
    "    cost_history.append(cost)\n",
    "    theta1_grad, theta2_grad = get_gradients(X_train, Y, theta1, theta2, 1)\n",
    "    theta1 = theta1 - alpha * theta1_grad\n",
    "    theta2 = theta2 - alpha * theta2_grad"
   ]
  },
  {
   "cell_type": "code",
   "execution_count": 34,
   "metadata": {},
   "outputs": [],
   "source": [
    "predictions = np.argmax(get_predictions(X_test, theta1, theta2), axis=1)"
   ]
  },
  {
   "cell_type": "code",
   "execution_count": 39,
   "metadata": {},
   "outputs": [
    {
     "name": "stdout",
     "output_type": "stream",
     "text": [
      "Percentage of right predictions: 99.04444444444445\n"
     ]
    }
   ],
   "source": [
    "print(\"Percentage of right predictions: {}\".format((100 * y_test.shape[0] - sum(predictions == y_test)) / y_test.shape[0]))"
   ]
  },
  {
   "cell_type": "code",
   "execution_count": 40,
   "metadata": {},
   "outputs": [
    {
     "data": {
      "text/plain": [
       "Text(0, 0.5, 'Cost')"
      ]
     },
     "execution_count": 40,
     "metadata": {},
     "output_type": "execute_result"
    },
    {
     "data": {
      "image/png": "[encoded data removed]",
      "text/plain": [
       "<Figure size 432x288 with 1 Axes>"
      ]
     },
     "metadata": {
      "needs_background": "light"
     },
     "output_type": "display_data"
    }
   ],
   "source": [
    "plt.plot(cost_history)\n",
    "plt.xlabel('Number of iterations')\n",
    "plt.ylabel('Cost')"
   ]
  },
  {
   "cell_type": "code",
   "execution_count": null,
   "metadata": {},
   "outputs": [],
   "source": []
  },
  {
   "cell_type": "code",
   "execution_count": null,
   "metadata": {},
   "outputs": [],
   "source": []
  }
 ],
 "metadata": {
  "kernelspec": {
   "display_name": "Python 3",
   "language": "python",
   "name": "python3"
  },
  "language_info": {
   "codemirror_mode": {
    "name": "ipython",
    "version": 3
   },
   "file_extension": ".py",
   "mimetype": "text/x-python",
   "name": "python",
   "nbconvert_exporter": "python",
   "pygments_lexer": "ipython3",
   "version": "3.7.5"
  }
 },
 "nbformat": 4,
 "nbformat_minor": 4
}
